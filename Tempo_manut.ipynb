{
  "cells": [
    {
      "cell_type": "markdown",
      "metadata": {
        "id": "view-in-github",
        "colab_type": "text"
      },
      "source": [
        "<a href=\"https://colab.research.google.com/github/Camves/Tempo_preventiva_Monte_Carlo/blob/main/Tempo_manut.ipynb\" target=\"_parent\"><img src=\"https://colab.research.google.com/assets/colab-badge.svg\" alt=\"Open In Colab\"/></a>"
      ]
    },
    {
      "cell_type": "code",
      "execution_count": null,
      "metadata": {
        "application/vnd.databricks.v1+cell": {
          "inputWidgets": {},
          "nuid": "e0289db0-4434-4488-be4b-970065821181",
          "showTitle": false,
          "title": ""
        },
        "id": "pdnVeDOSLGfh"
      },
      "outputs": [],
      "source": [
        "import numpy as np\n",
        "import scipy as sp\n",
        "import matplotlib.pyplot as plt\n",
        "import pandas as pd"
      ]
    },
    {
      "cell_type": "markdown",
      "metadata": {
        "application/vnd.databricks.v1+cell": {
          "inputWidgets": {},
          "nuid": "101146b9-740a-49d4-bd97-687479dadcef",
          "showTitle": false,
          "title": ""
        },
        "id": "jQwE4VDiLGfy"
      },
      "source": [
        "#Tempo ótimo de manutenção"
      ]
    },
    {
      "cell_type": "code",
      "source": [
        "df = pd.read_csv(\"/content/Tempo_Quebra_Equip.csv\")\n",
        "mean = df.mean()\n",
        "stand = df.std()"
      ],
      "metadata": {
        "id": "aX7FzvEj4Saw"
      },
      "execution_count": null,
      "outputs": []
    },
    {
      "cell_type": "code",
      "source": [
        "intervalo_man = []\n",
        "for i in range(101):\n",
        "  intervalo_man.append(i)\n",
        "print(intervalo_man)"
      ],
      "metadata": {
        "colab": {
          "base_uri": "https://localhost:8080/"
        },
        "id": "mTTR-iQY6jG5",
        "outputId": "e21f360e-3d72-493e-8cf5-ef0c92492c60"
      },
      "execution_count": null,
      "outputs": [
        {
          "output_type": "stream",
          "name": "stdout",
          "text": [
            "[0, 1, 2, 3, 4, 5, 6, 7, 8, 9, 10, 11, 12, 13, 14, 15, 16, 17, 18, 19, 20, 21, 22, 23, 24, 25, 26, 27, 28, 29, 30, 31, 32, 33, 34, 35, 36, 37, 38, 39, 40, 41, 42, 43, 44, 45, 46, 47, 48, 49, 50, 51, 52, 53, 54, 55, 56, 57, 58, 59, 60, 61, 62, 63, 64, 65, 66, 67, 68, 69, 70, 71, 72, 73, 74, 75, 76, 77, 78, 79, 80, 81, 82, 83, 84, 85, 86, 87, 88, 89, 90, 91, 92, 93, 94, 95, 96, 97, 98, 99, 100]\n"
          ]
        }
      ]
    },
    {
      "cell_type": "code",
      "execution_count": null,
      "metadata": {
        "application/vnd.databricks.v1+cell": {
          "inputWidgets": {},
          "nuid": "291f360a-bda9-4464-9e51-5b7e25af9ceb",
          "showTitle": false,
          "title": ""
        },
        "id": "Goh5xgg3LGfy",
        "colab": {
          "base_uri": "https://localhost:8080/",
          "height": 524
        },
        "outputId": "1bcc1170-b34c-4017-9388-0a21f02afa35"
      },
      "outputs": [
        {
          "output_type": "stream",
          "name": "stdout",
          "text": [
            "Melhor tempo: 11 \n",
            "Disponibilidade: 78.47687467112952\n"
          ]
        },
        {
          "output_type": "execute_result",
          "data": {
            "text/plain": [
              "<matplotlib.lines.Line2D at 0x78c0884d3490>"
            ]
          },
          "metadata": {},
          "execution_count": 4
        },
        {
          "output_type": "display_data",
          "data": {
            "text/plain": [
              "<Figure size 640x480 with 1 Axes>"
            ],
            "image/png": "[encoded data removed]"
          },
          "metadata": {}
        }
      ],
      "source": [
        "import scipy.stats\n",
        "import numpy as np\n",
        "import matplotlib.pyplot as plt\n",
        "#Criação de cenários de operação para determinação de tempo ótimo de manutenção. O Equipamento tem uma curva de sobrevivencia estimada em X~Weibull(k=4, lambda = 50)\n",
        "\n",
        "MC_disponib = []\n",
        "M = 100 #100 cenários por intervalo de manutenção\n",
        "T = 8760 #1 ano em horas\n",
        "\n",
        "for intervalo in intervalo_man:\n",
        "  disp_vec = []\n",
        "  for m in range(M):\n",
        "    soma_disponivel = 0\n",
        "    soma_parado = 0\n",
        "    total = 0\n",
        "    while total<T:\n",
        "      tempo_man = np.random.normal(loc=3,scale=1.2)\n",
        "      tempo_reparo = np.random.normal(loc=15,scale=0.8)\n",
        "      tempo_falha = scipy.stats.weibull_min.rvs(c= mean, scale = stand, size= 1)[0]\n",
        "      if tempo_falha > intervalo:\n",
        "        soma_disponivel += intervalo\n",
        "        soma_parado += tempo_man\n",
        "      else:\n",
        "        soma_disponivel += tempo_falha\n",
        "        soma_parado += tempo_reparo\n",
        "      total = soma_disponivel+soma_parado\n",
        "    disp_vec.append(100*soma_disponivel/total)\n",
        "  MC_disponib.append(np.mean(np.array(disp_vec)))\n",
        "tempo_otimo = intervalo_man[np.argmax(MC_disponib)]\n",
        "print('Melhor tempo:',tempo_otimo,'\\nDisponibilidade:',np.max(MC_disponib))\n",
        "\n",
        "plt.plot(intervalo_man,MC_disponib)\n",
        "plt.title('Tempo ótimo de manutenção')\n",
        "plt.ylabel('Disp. Equip [%]')\n",
        "plt.xlabel('Intervalo entre preventivas (h)')\n",
        "plt.axvline(tempo_otimo,color ='red',linestyle='dashed')\n"
      ]
    }
  ],
  "metadata": {
    "application/vnd.databricks.v1+notebook": {
      "dashboards": [],
      "language": "python",
      "notebookMetadata": {
        "pythonIndentUnit": 2
      },
      "notebookName": "Monte_Carlo",
      "notebookOrigID": 2088762732514692,
      "widgets": {}
    },
    "colab": {
      "collapsed_sections": [
        "r92o9FZJLGfk",
        "cNM-ESaaLGfo",
        "1vabRn_xLGfr",
        "jQwE4VDiLGfy"
      ],
      "provenance": [],
      "include_colab_link": true
    },
    "kernelspec": {
      "display_name": "Python 3 (ipykernel)",
      "language": "python",
      "name": "python3"
    },
    "language_info": {
      "codemirror_mode": {
        "name": "ipython",
        "version": 3
      },
      "file_extension": ".py",
      "mimetype": "text/x-python",
      "name": "python",
      "nbconvert_exporter": "python",
      "pygments_lexer": "ipython3",
      "version": "3.11.4"
    }
  },
  "nbformat": 4,
  "nbformat_minor": 0
}